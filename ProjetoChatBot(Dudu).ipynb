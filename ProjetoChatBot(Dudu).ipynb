{
  "nbformat": 4,
  "nbformat_minor": 0,
  "metadata": {
    "colab": {
      "provenance": [],
      "authorship_tag": "ABX9TyNzNXbwOjrmav/e0MUZsPyt",
      "include_colab_link": true
    },
    "kernelspec": {
      "name": "python3",
      "display_name": "Python 3"
    },
    "language_info": {
      "name": "python"
    }
  },
  "cells": [
    {
      "cell_type": "markdown",
      "metadata": {
        "id": "view-in-github",
        "colab_type": "text"
      },
      "source": [
        "<a href=\"https://colab.research.google.com/github/pedrocrf/Projeto-Alura-Google/blob/main/ProjetoChatBot(Dudu).ipynb\" target=\"_parent\"><img src=\"https://colab.research.google.com/assets/colab-badge.svg\" alt=\"Open In Colab\"/></a>"
      ]
    },
    {
      "cell_type": "markdown",
      "source": [
        "##Instalação SDK"
      ],
      "metadata": {
        "id": "aKqEQTkfnWYm"
      }
    },
    {
      "cell_type": "code",
      "execution_count": null,
      "metadata": {
        "id": "rz1XVGwDnSWq"
      },
      "outputs": [],
      "source": [
        "!pip install -q -U google-generativeai"
      ]
    },
    {
      "cell_type": "markdown",
      "source": [
        "#DuduBot o Chatbot mais fofo do Brasil!"
      ],
      "metadata": {
        "id": "--Of-b9VnXXs"
      }
    },
    {
      "cell_type": "code",
      "source": [
        "import google.generativeai as genai\n",
        "\n",
        "from google.colab import userdata\n",
        "api_key = userdata.get('SECRET_KEY')\n",
        "genai.configure(api_key=api_key)\n",
        "\n",
        "# Função para interagir com o chatbot\n",
        "def conversar_com_chatbot():\n",
        "  \"\"\"Inicia uma conversa com o chatbot.\"\"\"\n",
        "\n",
        "  print(\"Olá! Sou o Dudu. Como posso te ajudar hoje?\")\n",
        "\n",
        "  while True:\n",
        "    pergunta = input(\"Você: \")\n",
        "\n",
        "    if pergunta.lower() in ['sair', 'tchau', 'adeus']:\n",
        "      print(\"Chatbot: Até logo!\")\n",
        "      break\n",
        "\n",
        "    # Cria o prompt para o Gemini\n",
        "    prompt = f\"\"\"Você é um chatbot amigável e prestativo. Responda à seguinte pergunta: {pergunta}\"\"\"\n",
        "\n",
        "    # Gera a resposta do chatbot\n",
        "    response = genai.GenerativeModel(model_name=\"gemini-1.5-pro-latest\").generate_content([prompt])\n",
        "\n",
        "    # Imprime a resposta do chatbot\n",
        "    print(f\"Chatbot: {response.text}\")\n",
        "\n",
        "# Inicia a conversa\n",
        "conversar_com_chatbot()"
      ],
      "metadata": {
        "colab": {
          "base_uri": "https://localhost:8080/"
        },
        "id": "ZxmWJkkonXmm",
        "outputId": "c480b538-660e-4f71-a064-b391dbd9ac77"
      },
      "execution_count": null,
      "outputs": [
        {
          "output_type": "stream",
          "name": "stdout",
          "text": [
            "Olá! Sou o Dudu. Como posso te ajudar hoje?\n"
          ]
        }
      ]
    }
  ]
}